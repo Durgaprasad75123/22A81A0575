{
  "nbformat": 4,
  "nbformat_minor": 0,
  "metadata": {
    "colab": {
      "provenance": [],
      "authorship_tag": "ABX9TyNHCKg+1Y5SqHwWNDPzBC9V",
      "include_colab_link": true
    },
    "kernelspec": {
      "name": "python3",
      "display_name": "Python 3"
    },
    "language_info": {
      "name": "python"
    }
  },
  "cells": [
    {
      "cell_type": "markdown",
      "metadata": {
        "id": "view-in-github",
        "colab_type": "text"
      },
      "source": [
        "<a href=\"https://colab.research.google.com/github/Durgaprasad75123/22A81A0575/blob/main/DAY_1.ipynb\" target=\"_parent\"><img src=\"https://colab.research.google.com/assets/colab-badge.svg\" alt=\"Open In Colab\"/></a>"
      ]
    },
    {
      "cell_type": "code",
      "execution_count": null,
      "metadata": {
        "colab": {
          "base_uri": "https://localhost:8080/"
        },
        "id": "MmVjsF9AsJ5h",
        "outputId": "b16dce6a-7429-47f8-bbdd-764461ee221d"
      },
      "outputs": [
        {
          "output_type": "stream",
          "name": "stdout",
          "text": [
            "30\n",
            "16\n"
          ]
        }
      ],
      "source": [
        "a=5\n",
        "b=25\n",
        "print(a+b)\n",
        "print(2**4)"
      ]
    },
    {
      "cell_type": "code",
      "source": [
        "a=5\n",
        "print(\"I am\",a,\"years old\")"
      ],
      "metadata": {
        "colab": {
          "base_uri": "https://localhost:8080/"
        },
        "id": "NidDJj9YsiFE",
        "outputId": "73b0768f-f3a5-49d5-b698-596ab65d6b5b"
      },
      "execution_count": null,
      "outputs": [
        {
          "output_type": "stream",
          "name": "stdout",
          "text": [
            "I am 5 years old\n"
          ]
        }
      ]
    },
    {
      "cell_type": "code",
      "source": [
        "#Relational\n",
        "a=7\n",
        "b=7\n",
        "print(a==b)\n",
        "print(a<=b)\n",
        "print(a>=b)\n",
        "print(a>b)\n",
        "print(a<b)\n",
        "print(a!=b)"
      ],
      "metadata": {
        "colab": {
          "base_uri": "https://localhost:8080/"
        },
        "id": "r7peNCJXsrUO",
        "outputId": "b0ac9017-6c09-4c9a-a403-7aa43825d155"
      },
      "execution_count": null,
      "outputs": [
        {
          "output_type": "stream",
          "name": "stdout",
          "text": [
            "True\n",
            "True\n",
            "True\n",
            "False\n",
            "False\n",
            "False\n"
          ]
        }
      ]
    },
    {
      "cell_type": "code",
      "source": [],
      "metadata": {
        "id": "do-foSDruyRB"
      },
      "execution_count": null,
      "outputs": []
    },
    {
      "cell_type": "code",
      "source": [
        "#logical\n",
        "a=5\n",
        "b=6\n",
        "print((a>b)and (a<b))\n",
        "print((a>b)or (a<b))"
      ],
      "metadata": {
        "colab": {
          "base_uri": "https://localhost:8080/"
        },
        "id": "TOtGIl12t9M3",
        "outputId": "cbe7f5fe-28aa-4c80-a317-6891f8a95e09"
      },
      "execution_count": null,
      "outputs": [
        {
          "output_type": "stream",
          "name": "stdout",
          "text": [
            "False\n",
            "True\n"
          ]
        }
      ]
    },
    {
      "cell_type": "markdown",
      "source": [
        "control flow"
      ],
      "metadata": {
        "id": "r7LJC11avMc4"
      }
    },
    {
      "cell_type": "code",
      "source": [
        "#simpleif\n",
        "a=3\n",
        "if(a>0):\n",
        "  print(\"Postive\")"
      ],
      "metadata": {
        "colab": {
          "base_uri": "https://localhost:8080/"
        },
        "id": "HQf1QbZivO9b",
        "outputId": "0633d774-ef43-4c98-d963-4c8314140483"
      },
      "execution_count": null,
      "outputs": [
        {
          "output_type": "stream",
          "name": "stdout",
          "text": [
            "Postive\n"
          ]
        }
      ]
    },
    {
      "cell_type": "code",
      "source": [
        "#conditional if\n",
        "#write a program to get a number is a postive or negative\n",
        "a=int(input(\"Enter a value\"))\n",
        "if(a>0):\n",
        "  print(\"Positive\")\n",
        "else:\n",
        "  print(\"Negative\")"
      ],
      "metadata": {
        "colab": {
          "base_uri": "https://localhost:8080/"
        },
        "id": "k8MFp6U9vocW",
        "outputId": "bda0a661-38e3-4dce-a2af-478fa63adca9"
      },
      "execution_count": null,
      "outputs": [
        {
          "output_type": "stream",
          "name": "stdout",
          "text": [
            "Enter a value5\n",
            "Positive\n"
          ]
        }
      ]
    },
    {
      "cell_type": "code",
      "source": [
        "#elif\n",
        "a=int(input(\"Enter a value\"))\n",
        "if(a>0):\n",
        "  print(\"positive\")\n",
        "elif(a<0):\n",
        "  print(\"Negative\")\n",
        "else:\n",
        "  print(\"Zero\")\n"
      ],
      "metadata": {
        "colab": {
          "base_uri": "https://localhost:8080/"
        },
        "id": "Fn00SMiUyjSM",
        "outputId": "02c4cadb-32fe-47d0-d63e-3a522dece304"
      },
      "execution_count": null,
      "outputs": [
        {
          "output_type": "stream",
          "name": "stdout",
          "text": [
            "Enter a value75\n",
            "positive\n"
          ]
        }
      ]
    },
    {
      "cell_type": "code",
      "source": [
        "#for loop\n",
        "for i in range(1,11,1):\n",
        "  print(i,\"*\",4,\"=\",i*4)"
      ],
      "metadata": {
        "colab": {
          "base_uri": "https://localhost:8080/"
        },
        "id": "sxVB9Ngn0l1o",
        "outputId": "3725b3e4-104e-4a39-d37a-883585fb93dc"
      },
      "execution_count": null,
      "outputs": [
        {
          "output_type": "stream",
          "name": "stdout",
          "text": [
            "1 * 4 = 4\n",
            "2 * 4 = 8\n",
            "3 * 4 = 12\n",
            "4 * 4 = 16\n",
            "5 * 4 = 20\n",
            "6 * 4 = 24\n",
            "7 * 4 = 28\n",
            "8 * 4 = 32\n",
            "9 * 4 = 36\n",
            "10 * 4 = 40\n"
          ]
        }
      ]
    },
    {
      "cell_type": "code",
      "source": [
        "#Explicit Type Catsing\n",
        "a=\"75\"\n",
        "a=int(a)\n",
        "print(type(a))"
      ],
      "metadata": {
        "colab": {
          "base_uri": "https://localhost:8080/"
        },
        "id": "WoH8DwgN4GiL",
        "outputId": "527fdf55-0c43-4eaa-89ce-d35765e68697"
      },
      "execution_count": null,
      "outputs": [
        {
          "output_type": "stream",
          "name": "stdout",
          "text": [
            "<class 'int'>\n"
          ]
        }
      ]
    },
    {
      "cell_type": "code",
      "source": [
        "a=\"Python is easy\"\n",
        "print(a[0:6:1],a[7:9:1])"
      ],
      "metadata": {
        "colab": {
          "base_uri": "https://localhost:8080/"
        },
        "id": "jyiR-plQ42hx",
        "outputId": "97f6b018-e203-4c44-ce14-89a714ded354"
      },
      "execution_count": null,
      "outputs": [
        {
          "output_type": "stream",
          "name": "stdout",
          "text": [
            "Python is\n"
          ]
        }
      ]
    },
    {
      "cell_type": "code",
      "source": [
        "#while loop\n",
        "a=int(input(\"Enter a value\"))\n",
        "i=1\n",
        "while(a>0 and i<=10):\n",
        "  print(i,\"*\",a,\"=\",i*a)\n",
        "  i=i+1"
      ],
      "metadata": {
        "id": "S1QOpDWY-mtV"
      },
      "execution_count": null,
      "outputs": []
    },
    {
      "cell_type": "code",
      "source": [
        "#list\n",
        "a=[]\n",
        "for i in range(1,10,1):\n",
        "  a.append(i)\n",
        "print(a)"
      ],
      "metadata": {
        "id": "ky5Zm5jU-jWL",
        "colab": {
          "base_uri": "https://localhost:8080/"
        },
        "outputId": "80baf224-564b-49d7-f862-987f3e4a6023"
      },
      "execution_count": null,
      "outputs": [
        {
          "output_type": "stream",
          "name": "stdout",
          "text": [
            "[1, 2, 3, 4, 5, 6, 7, 8, 9]\n"
          ]
        }
      ]
    },
    {
      "cell_type": "code",
      "source": [
        "b=[1,2,3,4]\n",
        "b.insert(1,3)\n",
        "print(b)"
      ],
      "metadata": {
        "colab": {
          "base_uri": "https://localhost:8080/"
        },
        "id": "XGPpQ7nIDkQJ",
        "outputId": "d6939ccd-58d6-4a36-bb07-2224eb62ec6c"
      },
      "execution_count": null,
      "outputs": [
        {
          "output_type": "stream",
          "name": "stdout",
          "text": [
            "[1, 3, 2, 3, 4]\n"
          ]
        }
      ]
    },
    {
      "cell_type": "code",
      "source": [
        "b.pop(1)\n",
        "print(b)"
      ],
      "metadata": {
        "colab": {
          "base_uri": "https://localhost:8080/"
        },
        "id": "RMXKZzGmDtM-",
        "outputId": "11fc295f-4ca5-4902-a191-59ef07a83d06"
      },
      "execution_count": null,
      "outputs": [
        {
          "output_type": "stream",
          "name": "stdout",
          "text": [
            "[1, 2, 3, 4]\n"
          ]
        }
      ]
    },
    {
      "cell_type": "code",
      "source": [
        "b.remove(4)\n",
        "print(b)"
      ],
      "metadata": {
        "colab": {
          "base_uri": "https://localhost:8080/"
        },
        "id": "f6gx8tUdD18q",
        "outputId": "11631cf4-5ccc-40cb-f018-d9e70239b718"
      },
      "execution_count": null,
      "outputs": [
        {
          "output_type": "stream",
          "name": "stdout",
          "text": [
            "[1, 2, 3]\n"
          ]
        }
      ]
    },
    {
      "cell_type": "code",
      "source": [
        "print(max(b))\n",
        "print(min(b))\n",
        "print(len(b))"
      ],
      "metadata": {
        "colab": {
          "base_uri": "https://localhost:8080/"
        },
        "id": "Fwudetb4EETF",
        "outputId": "0b024552-f327-44f3-eddb-0cc16480f6bb"
      },
      "execution_count": null,
      "outputs": [
        {
          "output_type": "stream",
          "name": "stdout",
          "text": [
            "3\n",
            "1\n",
            "3\n"
          ]
        }
      ]
    },
    {
      "cell_type": "code",
      "source": [
        "#list comprehension\n",
        "c=[1,2,3,4,5,6]\n",
        "c=[i**2 for i in c if i>=3] #syntax: [output for  condition]\n",
        "print(c)"
      ],
      "metadata": {
        "colab": {
          "base_uri": "https://localhost:8080/"
        },
        "id": "Ce6B1P50FA-P",
        "outputId": "a955c602-be72-4a7a-95d0-53830185fe69"
      },
      "execution_count": null,
      "outputs": [
        {
          "output_type": "stream",
          "name": "stdout",
          "text": [
            "[9, 16, 25, 36]\n"
          ]
        }
      ]
    },
    {
      "cell_type": "code",
      "source": [
        "#salaries of 5 employes in company is taken as a list the tax is 10% if the salary is less than<=50k else tax is  50%\n",
        "sal=[67000,45000,89000,34000,50000]\n",
        "tax=[]\n",
        "for i in sal:\n",
        "  if (i>50000):\n",
        "    t=(i*(15/100))\n",
        "    tax.append(t)\n",
        "  elif(i<=50000):\n",
        "    t=(i*(10/100))\n",
        "    tax.append(t)\n",
        "print(tax)\n"
      ],
      "metadata": {
        "colab": {
          "base_uri": "https://localhost:8080/"
        },
        "id": "iVNqjlilG3qk",
        "outputId": "dd7661eb-6f58-46f0-bd74-ae3734813f88"
      },
      "execution_count": null,
      "outputs": [
        {
          "output_type": "stream",
          "name": "stdout",
          "text": [
            "[10050.0, 4500.0, 13350.0, 3400.0, 5000.0]\n"
          ]
        }
      ]
    },
    {
      "cell_type": "code",
      "source": [],
      "metadata": {
        "id": "JSXXLJUxKfDH"
      },
      "execution_count": null,
      "outputs": []
    },
    {
      "cell_type": "code",
      "source": [
        "#salaries of 5 employes in company is taken as a list the tax is 10% if the salary is less than<=50k else tax is  50%\n",
        "sal=[67000,45000,89000,34000,50000]\n",
        "tax=[]\n",
        "tax=[i*0.1 if i<=50000 else i*0.15 for i in sal]\n",
        "print(tax)"
      ],
      "metadata": {
        "colab": {
          "base_uri": "https://localhost:8080/"
        },
        "id": "IZ93AGc0K7pS",
        "outputId": "7970c0f6-882d-40c9-ffd1-b47add0517fa"
      },
      "execution_count": null,
      "outputs": [
        {
          "output_type": "stream",
          "name": "stdout",
          "text": [
            "[10050.0, 4500.0, 13350.0, 3400.0, 5000.0]\n"
          ]
        }
      ]
    }
  ]
}